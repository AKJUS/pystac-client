{
 "cells": [
  {
   "cell_type": "code",
   "execution_count": 1,
   "source": [
    "import pystac\n",
    "from pystac_client import Client"
   ],
   "outputs": [],
   "metadata": {}
  },
  {
   "cell_type": "code",
   "execution_count": 3,
   "source": [
    "PC_URL = 'https://planetarycomputer.microsoft.com/api/stac/v1'\n",
    "CMR_URL = 'https://cmr.earthdata.nasa.gov/stac'\n",
    "headers = []"
   ],
   "outputs": [],
   "metadata": {}
  },
  {
   "cell_type": "code",
   "execution_count": 4,
   "source": [
    "cat = Client.open(CMR_URL, headers=headers)"
   ],
   "outputs": [],
   "metadata": {}
  },
  {
   "cell_type": "code",
   "execution_count": 5,
   "source": [
    "print(cat)"
   ],
   "outputs": [
    {
     "output_type": "stream",
     "name": "stdout",
     "text": [
      "<Client id=stac>\n"
     ]
    }
   ],
   "metadata": {}
  },
  {
   "cell_type": "code",
   "execution_count": 6,
   "source": [
    "for kitten in cat.get_children():\n",
    "    print(kitten)"
   ],
   "outputs": [
    {
     "output_type": "stream",
     "name": "stdout",
     "text": [
      "<Client id=LARC_ASDC>\n",
      "<Client id=USGS_EROS>\n",
      "<Client id=ESA>\n",
      "<Client id=GHRC>\n",
      "<Client id=LAADS>\n",
      "<Client id=OBPG>\n",
      "<Client id=OB_DAAC>\n",
      "<Client id=ECHO>\n",
      "<Client id=ISRO>\n",
      "<Client id=LPCUMULUS>\n",
      "<Client id=EDF_DEV04>\n",
      "<Client id=GES_DISC>\n",
      "<Client id=ASF>\n",
      "<Client id=OMINRT>\n",
      "<Client id=EUMETSAT>\n",
      "<Client id=NCCS>\n",
      "<Client id=NSIDCV0>\n",
      "<Client id=PODAAC>\n",
      "<Client id=LARC>\n",
      "<Client id=USGS>\n",
      "<Client id=SCIOPS>\n",
      "<Client id=LANCEMODIS>\n",
      "<Client id=CDDIS>\n",
      "<Client id=JAXA>\n",
      "<Client id=AU_AADC>\n",
      "<Client id=ECHO10_OPS>\n",
      "<Client id=LPDAAC_ECS>\n",
      "<Client id=NSIDC_ECS>\n",
      "<Client id=ORNL_DAAC>\n",
      "<Client id=LM_FIRMS>\n",
      "<Client id=SEDAC>\n",
      "<Client id=LANCEAMSR2>\n",
      "<Client id=NOAA_NCEI>\n",
      "<Client id=USGS_LTA>\n",
      "<Client id=GESDISCCLD>\n",
      "<Client id=ASIPS>\n",
      "<Client id=ESDIS>\n",
      "<Client id=POCLOUD>\n",
      "<Client id=NSIDC_CPRD>\n",
      "<Client id=ORNL_CLOUD>\n",
      "<Client id=XYZ_PROV>\n",
      "<Client id=GHRC_DAAC>\n",
      "<Client id=CSDA>\n",
      "<Client id=MOPITT>\n",
      "<Client id=GHRC_CLOUD>\n",
      "<Client id=LPCLOUD>\n"
     ]
    }
   ],
   "metadata": {}
  },
  {
   "cell_type": "code",
   "execution_count": 9,
   "source": [
    "cat = Client.open('https://cmr.earthdata.nasa.gov/stac/ASF')"
   ],
   "outputs": [],
   "metadata": {}
  },
  {
   "cell_type": "code",
   "execution_count": 11,
   "source": [
    "for col in cat.get_collections():\n",
    "    print(col)"
   ],
   "outputs": [
    {
     "output_type": "stream",
     "name": "stdout",
     "text": [
      "<CollectionClient id=AIRSAR_INT_JPG.v1>\n",
      "<CollectionClient id=AIRSAR_POL_3FP.v1>\n",
      "<CollectionClient id=AIRSAR_POL_SYN_3FP.v1>\n",
      "<CollectionClient id=AIRSAR_TOP_C-DEM_STOKES.v1>\n",
      "<CollectionClient id=AIRSAR_TOP_DEM.v1>\n",
      "<CollectionClient id=AIRSAR_TOP_DEM_C.v1>\n",
      "<CollectionClient id=AIRSAR_TOP_DEM_L.v1>\n",
      "<CollectionClient id=AIRSAR_TOP_DEM_P.v1>\n",
      "<CollectionClient id=AIRSAR_TOP_L-STOKES.v1>\n",
      "<CollectionClient id=AIRSAR_TOP_P-STOKES.v1>\n",
      "<CollectionClient id=ALOS_AVNIR_OBS_ORI.v2>\n",
      "<CollectionClient id=ALOS_PSR_KMZ.v1>\n",
      "<CollectionClient id=ALOS_PSR_L1.0.v1>\n",
      "<CollectionClient id=ALOS_PSR_L1.1.v1>\n",
      "<CollectionClient id=ALOS_PSR_L1.5.v1>\n",
      "<CollectionClient id=ALOS_PSR_L2.2.v1>\n",
      "<CollectionClient id=ALOS_PSR_RTC_HIGH.v1>\n",
      "<CollectionClient id=ALOS_PSR_RTC_LOW.v1>\n",
      "<CollectionClient id=ERS-1_L0.v1>\n",
      "<CollectionClient id=ERS-1_L1.v1>\n",
      "<CollectionClient id=ERS-2_L0.v1>\n",
      "<CollectionClient id=ERS-2_L1.v1>\n",
      "<CollectionClient id=JERS-1_L1.v1>\n",
      "<CollectionClient id=JERS-1_L0.v1>\n",
      "<CollectionClient id=RSAT-1_L0.v1>\n",
      "<CollectionClient id=RSAT-1_L1.v1>\n",
      "<CollectionClient id=SEASAT_SAR_L1_TIFF.v1>\n",
      "<CollectionClient id=SEASAT_SAR_L1_HDF5.v1>\n",
      "<CollectionClient id=SENTINEL-1_INTERFEROGRAMS.v1>\n",
      "<CollectionClient id=SENTINEL-1_INTERFEROGRAMS_AMPLITUDE.v1>\n",
      "<CollectionClient id=SENTINEL-1_INTERFEROGRAMS_COHERENCE.v1>\n",
      "<CollectionClient id=SENTINEL-1_INTERFEROGRAMS_CONNECTED_COMPONENTS.v1>\n",
      "<CollectionClient id=SENTINEL-1_INTERFEROGRAMS_UNWRAPPED_PHASE.v1>\n",
      "<CollectionClient id=SENTINEL-1_INSAR_UNWRAPPED_INTERFEROGRAM_AND_COHERENCE_MAP.v1>\n",
      "<CollectionClient id=SENTINEL-1A_DP_GRD_FULL.v1>\n",
      "<CollectionClient id=SENTINEL-1A_DP_GRD_HIGH.v1>\n",
      "<CollectionClient id=SENTINEL-1A_DP_GRD_MEDIUM.v1>\n",
      "<CollectionClient id=SENTINEL-1A_DP_META_GRD_FULL.v1>\n",
      "<CollectionClient id=SENTINEL-1A_DP_META_GRD_HIGH.v1>\n",
      "<CollectionClient id=SENTINEL-1A_DP_META_GRD_MEDIUM.v1>\n",
      "<CollectionClient id=SENTINEL-1A_META_OCN.v1>\n",
      "<CollectionClient id=SENTINEL-1A_META_RAW.v1>\n",
      "<CollectionClient id=SENTINEL-1A_META_SLC.v1>\n",
      "<CollectionClient id=SENTINEL-1A_OCN.v1>\n",
      "<CollectionClient id=SENTINEL-1A_RAW.v1>\n",
      "<CollectionClient id=SENTINEL-1A_SP_GRD_FULL.v1>\n",
      "<CollectionClient id=SENTINEL-1A_SP_GRD_HIGH.v1>\n",
      "<CollectionClient id=SENTINEL-1A_SP_GRD_MEDIUM.v1>\n",
      "<CollectionClient id=SENTINEL-1A_SP_META_GRD_FULL.v1>\n",
      "<CollectionClient id=SENTINEL-1A_SP_META_GRD_HIGH.v1>\n",
      "<CollectionClient id=SENTINEL-1A_SP_META_GRD_MEDIUM.v1>\n",
      "<CollectionClient id=SENTINEL-1A_SLC.v1>\n",
      "<CollectionClient id=SENTINEL-1B_DP_GRD_FULL.v1>\n",
      "<CollectionClient id=SENTINEL-1B_DP_GRD_HIGH.v1>\n",
      "<CollectionClient id=SENTINEL-1B_DP_GRD_MEDIUM.v1>\n",
      "<CollectionClient id=SENTINEL-1B_DP_META_GRD_FULL.v1>\n",
      "<CollectionClient id=SENTINEL-1B_DP_META_GRD_HIGH.v1>\n",
      "<CollectionClient id=SENTINEL-1B_DP_META_GRD_MEDIUM.v1>\n",
      "<CollectionClient id=SENTINEL-1B_META_OCN.v1>\n",
      "<CollectionClient id=SENTINEL-1B_META_RAW.v1>\n",
      "<CollectionClient id=SENTINEL-1B_META_SLC.v1>\n",
      "<CollectionClient id=SENTINEL-1B_OCN.v1>\n",
      "<CollectionClient id=SENTINEL-1B_RAW.v1>\n",
      "<CollectionClient id=SENTINEL-1B_SP_GRD_FULL.v1>\n",
      "<CollectionClient id=SENTINEL-1B_SP_GRD_HIGH.v1>\n",
      "<CollectionClient id=SENTINEL-1B_SP_GRD_MEDIUM.v1>\n",
      "<CollectionClient id=SENTINEL-1B_SP_META_GRD_FULL.v1>\n",
      "<CollectionClient id=SENTINEL-1B_SP_META_GRD_HIGH.v1>\n",
      "<CollectionClient id=SENTINEL-1B_SP_META_GRD_MEDIUM.v1>\n",
      "<CollectionClient id=SENTINEL-1B_SLC.v1>\n",
      "<CollectionClient id=SPL1A_METADATA_001.v1>\n",
      "<CollectionClient id=SPL1A_METADATA_002.v2>\n",
      "<CollectionClient id=SPL1A_QA_001.v1>\n",
      "<CollectionClient id=SPL1A_QA_002.v2>\n",
      "<CollectionClient id=SPL1A_RO_METADATA_001.v1>\n",
      "<CollectionClient id=SPL1A_RO_METADATA_002.v2>\n",
      "<CollectionClient id=SPL1A_RO_METADATA_003.v3>\n",
      "<CollectionClient id=SPL1A_RO_QA_001.v1>\n",
      "<CollectionClient id=SPL1A_RO_QA_002.v2>\n",
      "<CollectionClient id=SPL1A_RO_QA_003.v3>\n",
      "<CollectionClient id=SPL1A_RO_001.v1>\n",
      "<CollectionClient id=SPL1A_RO_002.v2>\n",
      "<CollectionClient id=SPL1A_RO_003.v3>\n",
      "<CollectionClient id=SPL1A_001.v1>\n",
      "<CollectionClient id=SPL1A_002.v2>\n",
      "<CollectionClient id=SPL1B_SO_LoRes_METADATA_001.v1>\n",
      "<CollectionClient id=SPL1B_SO_LoRes_METADATA_002.v2>\n",
      "<CollectionClient id=SPL1B_SO_LoRes_METADATA_003.v3>\n",
      "<CollectionClient id=SPL1B_SO_LoRes_QA_001.v1>\n",
      "<CollectionClient id=SPL1B_SO_LoRes_QA_002.v2>\n",
      "<CollectionClient id=SPL1B_SO_LoRes_QA_003.v3>\n",
      "<CollectionClient id=SPL1B_SO_LoRes_001.v1>\n",
      "<CollectionClient id=SPL1B_SO_LoRes_002.v2>\n",
      "<CollectionClient id=SPL1B_SO_LoRes_003.v3>\n",
      "<CollectionClient id=SPL1C_S0_HiRes_METADATA_001.v1>\n",
      "<CollectionClient id=SPL1C_S0_HiRes_METADATA_002.v2>\n",
      "<CollectionClient id=SPL1C_S0_HiRes_METADATA_003.v3>\n",
      "<CollectionClient id=SPL1C_S0_HiRes_QA_001.v1>\n",
      "<CollectionClient id=SPL1C_S0_HiRes_QA_002.v2>\n",
      "<CollectionClient id=SPL1C_S0_HiRes_QA_003.v3>\n",
      "<CollectionClient id=SPL1C_S0_HiRes_001.v1>\n",
      "<CollectionClient id=SPL1C_S0_HiRes_002.v2>\n",
      "<CollectionClient id=SPL1C_S0_HiRes_003.v3>\n",
      "<CollectionClient id=STS-59_BROWSE_GRD.v1>\n",
      "<CollectionClient id=STS-59_BROWSE_SLC.v1>\n",
      "<CollectionClient id=STS-59_GRD.v1>\n",
      "<CollectionClient id=STS-59_META_GRD.v1>\n",
      "<CollectionClient id=STS-59_META_SLC.v1>\n",
      "<CollectionClient id=STS-59_SLC.v1>\n",
      "<CollectionClient id=STS-68_BROWSE_GRD.v1>\n",
      "<CollectionClient id=STS-68_BROWSE_SLC.v1>\n",
      "<CollectionClient id=STS-68_GRD.v1>\n",
      "<CollectionClient id=STS-68_META_GRD.v1>\n",
      "<CollectionClient id=STS-68_META_SLC.v1>\n",
      "<CollectionClient id=STS-68_SLC.v1>\n",
      "<CollectionClient id=UAVSAR_INSAR_AMP.v1>\n",
      "<CollectionClient id=UAVSAR_INSAR_AMP_GRD.v1>\n",
      "<CollectionClient id=UAVSAR_INSAR_DEM.v1>\n",
      "<CollectionClient id=UAVSAR_INSAR_INT.v1>\n",
      "<CollectionClient id=UAVSAR_INSAR_INT_GRD.v1>\n",
      "<CollectionClient id=UAVSAR_INSAR_KMZ.v1>\n",
      "<CollectionClient id=UAVSAR_INSAR_META.v1>\n",
      "<CollectionClient id=UAVSAR_POL_DEM.v1>\n",
      "<CollectionClient id=UAVSAR_POL_INC.v1>\n",
      "<CollectionClient id=UAVSAR_POL_KMZ.v1>\n",
      "<CollectionClient id=UAVSAR_POL_META.v1>\n",
      "<CollectionClient id=UAVSAR_POL_ML_CMPLX_GRD.v1>\n",
      "<CollectionClient id=UAVSAR_POL_ML_CMPLX_GRD_3X3.v1>\n",
      "<CollectionClient id=UAVSAR_POL_ML_CMPLX_GRD_5X5.v1>\n",
      "<CollectionClient id=UAVSAR_POL_ML_CMPLX_SLANT.v1>\n",
      "<CollectionClient id=UAVSAR_POL_PAULI.v1>\n",
      "<CollectionClient id=UAVSAR_POL_SLOPE.v1>\n",
      "<CollectionClient id=UAVSAR_POL_STOKES.v1>\n"
     ]
    }
   ],
   "metadata": {}
  }
 ],
 "metadata": {
  "kernelspec": {
   "display_name": "Python 3 (ipykernel)",
   "language": "python",
   "name": "python3"
  },
  "language_info": {
   "codemirror_mode": {
    "name": "ipython",
    "version": 3
   },
   "file_extension": ".py",
   "mimetype": "text/x-python",
   "name": "python",
   "nbconvert_exporter": "python",
   "pygments_lexer": "ipython3",
   "version": "3.9.4"
  }
 },
 "nbformat": 4,
 "nbformat_minor": 5
}