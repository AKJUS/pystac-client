{
 "cells": [
  {
   "cell_type": "markdown",
   "id": "e06a27bf",
   "metadata": {},
   "source": [
    "# pystac-client CQL Filtering\n",
    "\n",
    "This notebook demonstrates the use of pystac-client to use CQL Filtering."
   ]
  },
  {
   "cell_type": "code",
   "execution_count": 1,
   "id": "b65de617",
   "metadata": {},
   "outputs": [],
   "source": [
    "from pystac_client import Client\n",
    "\n",
    "# set pystac_client logger to DEBUG to see API calls\n",
    "import logging\n",
    "logging.basicConfig()\n",
    "logger = logging.getLogger('pystac_client')\n",
    "logger.setLevel(logging.DEBUG)"
   ]
  },
  {
   "cell_type": "code",
   "execution_count": 2,
   "id": "98942e75",
   "metadata": {},
   "outputs": [
    {
     "name": "stderr",
     "output_type": "stream",
     "text": [
      "DEBUG:pystac_client.stac_api_io:GET https://planetarycomputer-staging.microsoft.com/api/stac/v1 Headers: {'User-Agent': 'python-requests/2.25.1', 'Accept-Encoding': 'gzip, deflate', 'Accept': '*/*', 'Connection': 'keep-alive'}\n"
     ]
    },
    {
     "data": {
      "text/plain": [
       "<Client id=microsoft-pc>"
      ]
     },
     "execution_count": 2,
     "metadata": {},
     "output_type": "execute_result"
    }
   ],
   "source": [
    "# STAC API root URL\n",
    "URL = 'https://planetarycomputer-staging.microsoft.com/api/stac/v1'\n",
    "\n",
    "# custom headers\n",
    "headers = []\n",
    "\n",
    "cat = Client.open(URL, headers=headers)\n",
    "cat"
   ]
  },
  {
   "cell_type": "markdown",
   "id": "1e16077c",
   "metadata": {},
   "source": [
    "# Search\n",
    "\n",
    "Here we perform a search with the `Client.search` function, providing a geometry (`intersects`) a datetime range (`datetime`), and filtering by Item properties (`filter`) using CQL-JSON."
   ]
  },
  {
   "cell_type": "code",
   "execution_count": 3,
   "id": "d8af6334",
   "metadata": {},
   "outputs": [
    {
     "name": "stderr",
     "output_type": "stream",
     "text": [
      "DEBUG:pystac_client.stac_api_io:POST https://planetarycomputer-staging.microsoft.com/api/stac/v1/search Headers: {'User-Agent': 'python-requests/2.25.1', 'Accept-Encoding': 'gzip, deflate', 'Accept': '*/*', 'Connection': 'keep-alive', 'Content-Length': '353', 'Content-Type': 'application/json'} Payload: {\"limit\": 5, \"datetime\": \"2000-01-01T00:00:00Z/2010-12-31T23:59:59Z\", \"collections\": [\"aster-l1t\"], \"intersects\": {\"type\": \"Polygon\", \"coordinates\": [[[6.42425537109375, 53.174765470134616], [7.344360351562499, 53.174765470134616], [7.344360351562499, 53.67393435835391], [6.42425537109375, 53.67393435835391], [6.42425537109375, 53.174765470134616]]]}}\n",
      "DEBUG:pystac_client.stac_api_io:POST https://planetarycomputer-staging.microsoft.com/api/stac/v1/search Headers: {'User-Agent': 'python-requests/2.25.1', 'Accept-Encoding': 'gzip, deflate', 'Accept': '*/*', 'Connection': 'keep-alive', 'Content-Length': '411', 'Content-Type': 'application/json'} Payload: {\"limit\": 5, \"datetime\": \"2000-01-01T00:00:00Z/2010-12-31T23:59:59Z\", \"collections\": [\"aster-l1t\"], \"intersects\": {\"type\": \"Polygon\", \"coordinates\": [[[6.42425537109375, 53.174765470134616], [7.344360351562499, 53.174765470134616], [7.344360351562499, 53.67393435835391], [6.42425537109375, 53.67393435835391], [6.42425537109375, 53.174765470134616]]]}, \"token\": \"next:AST_L1T_00307172006105029_20150515082245\"}\n",
      "DEBUG:pystac_client.stac_api_io:POST https://planetarycomputer-staging.microsoft.com/api/stac/v1/search Headers: {'User-Agent': 'python-requests/2.25.1', 'Accept-Encoding': 'gzip, deflate', 'Accept': '*/*', 'Connection': 'keep-alive', 'Content-Length': '411', 'Content-Type': 'application/json'} Payload: {\"limit\": 5, \"datetime\": \"2000-01-01T00:00:00Z/2010-12-31T23:59:59Z\", \"collections\": [\"aster-l1t\"], \"intersects\": {\"type\": \"Polygon\", \"coordinates\": [[[6.42425537109375, 53.174765470134616], [7.344360351562499, 53.174765470134616], [7.344360351562499, 53.67393435835391], [6.42425537109375, 53.67393435835391], [6.42425537109375, 53.174765470134616]]]}, \"token\": \"next:AST_L1T_00306062006105631_20150514173924\"}\n"
     ]
    },
    {
     "data": {
      "text/plain": [
       "15"
      ]
     },
     "execution_count": 3,
     "metadata": {},
     "output_type": "execute_result"
    }
   ],
   "source": [
    "# AOI around Delfzijl, in the north of The Netherlands\n",
    "geom = {\n",
    "    \"type\": \"Polygon\",\n",
    "    \"coordinates\": [\n",
    "      [\n",
    "        [\n",
    "          6.42425537109375,\n",
    "          53.174765470134616\n",
    "        ],\n",
    "        [\n",
    "          7.344360351562499,\n",
    "          53.174765470134616\n",
    "        ],\n",
    "        [\n",
    "          7.344360351562499,\n",
    "          53.67393435835391\n",
    "        ],\n",
    "        [\n",
    "          6.42425537109375,\n",
    "          53.67393435835391\n",
    "        ],\n",
    "        [\n",
    "          6.42425537109375,\n",
    "          53.174765470134616\n",
    "        ]\n",
    "      ]\n",
    "    ]\n",
    "}\n",
    "\n",
    "# limit sets the # of items per page so we can see multiple pages getting fetched\n",
    "search = cat.search(\n",
    "    collections = \"aster-l1t\",\n",
    "    intersects = geom,\n",
    "    datetime = \"2000-01-01/2010-12-31\",\n",
    "    max_items = 15,\n",
    "    limit = 5,\n",
    "    filter = {\n",
    "        \"\"\n",
    "    }\n",
    ")\n",
    "\n",
    "# PySTAC ItemCollection\n",
    "items = search.get_all_items()\n",
    "\n",
    "# Dictionary (GeoJSON FeatureCollection)\n",
    "item_json = items.to_dict()\n",
    "\n",
    "len(items)"
   ]
  },
  {
   "cell_type": "code",
   "execution_count": null,
   "id": "275f316f",
   "metadata": {},
   "outputs": [],
   "source": [
    "# note that this will work in JupyterLab, but not in a Jupyter Notebook\n",
    "\n",
    "import IPython.display\n",
    "IPython.display.JSON(item_json)"
   ]
  },
  {
   "cell_type": "code",
   "execution_count": null,
   "id": "68bf65f2",
   "metadata": {},
   "outputs": [],
   "source": [
    "# this cell can be used in Jupyter Notebook. Use above if using JupyterLab\n",
    "\n",
    "import json\n",
    "import uuid\n",
    "from IPython.display import display_javascript, display_html, display\n",
    "\n",
    "class RenderJSON(object):\n",
    "    def __init__(self, json_data):\n",
    "        if isinstance(json_data, dict) or isinstance(json_data, list):\n",
    "            self.json_str = json.dumps(json_data)\n",
    "        else:\n",
    "            self.json_str = json_data\n",
    "        self.uuid = str(uuid.uuid4())\n",
    "\n",
    "    def _ipython_display_(self):\n",
    "        display_html('<div id=\"{}\" style=\"height: 600px; width:100%;font: 12px/18px monospace !important;\"></div>'.format(self.uuid), raw=True)\n",
    "        display_javascript(\"\"\"\n",
    "        require([\"https://rawgit.com/caldwell/renderjson/master/renderjson.js\"], function() {\n",
    "            renderjson.set_show_to_level(2);\n",
    "            document.getElementById('%s').appendChild(renderjson(%s))\n",
    "        });\n",
    "      \"\"\" % (self.uuid, self.json_str), raw=True)\n",
    "\n",
    "\n",
    "RenderJSON(item_json)"
   ]
  },
  {
   "cell_type": "code",
   "execution_count": null,
   "id": "93d65ed4",
   "metadata": {},
   "outputs": [],
   "source": []
  }
 ],
 "metadata": {
  "kernelspec": {
   "display_name": "Python 3 (ipykernel)",
   "language": "python",
   "name": "python3"
  },
  "language_info": {
   "codemirror_mode": {
    "name": "ipython",
    "version": 3
   },
   "file_extension": ".py",
   "mimetype": "text/x-python",
   "name": "python",
   "nbconvert_exporter": "python",
   "pygments_lexer": "ipython3",
   "version": "3.9.4"
  }
 },
 "nbformat": 4,
 "nbformat_minor": 5
}
