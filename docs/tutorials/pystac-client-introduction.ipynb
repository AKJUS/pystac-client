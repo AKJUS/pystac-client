{
 "cells": [
  {
   "cell_type": "markdown",
   "id": "e06a27bf",
   "metadata": {},
   "source": [
    "# pystac-client Introduction\n",
    "\n",
    "This notebook shows the basics of using pystac-client to open an API, iterate through Collections and Items, as well as perform basic searches."
   ]
  },
  {
   "cell_type": "code",
   "execution_count": null,
   "id": "b65de617",
   "metadata": {},
   "outputs": [],
   "source": [
    "from pystac_client import Client\n",
    "\n",
    "# set pystac_client logger to DEBUG to see API calls\n",
    "import logging\n",
    "logging.basicConfig()\n",
    "logger = logging.getLogger('pystac_client')\n",
    "logger.setLevel(logging.DEBUG)"
   ]
  },
  {
   "cell_type": "markdown",
   "id": "35e053c4",
   "metadata": {},
   "source": [
    "# Client\n",
    "\n",
    "We first connect to an API by retrieving the root catalog, or landing page, of the API with the `Client.open` function."
   ]
  },
  {
   "cell_type": "code",
   "execution_count": null,
   "id": "98942e75",
   "metadata": {},
   "outputs": [],
   "source": [
    "# STAC API root URL\n",
    "URL = 'https://planetarycomputer.microsoft.com/api/stac/v1'\n",
    "\n",
    "# custom headers\n",
    "headers = []\n",
    "\n",
    "cat = Client.open(URL, headers=headers)\n",
    "cat"
   ]
  },
  {
   "cell_type": "markdown",
   "id": "6bf4380c",
   "metadata": {},
   "source": [
    "# Collections\n",
    "\n",
    "As with a static catalog the `get_collections` function will iterate through the Collections in the Catalog. Notice that because this is an API it can get all the Collections through a single call, rather than having to fetch each one individually."
   ]
  },
  {
   "cell_type": "code",
   "execution_count": null,
   "id": "bb7693fb",
   "metadata": {},
   "outputs": [],
   "source": [
    "for collection in cat.get_collections():\n",
    "    print(collection)"
   ]
  },
  {
   "cell_type": "code",
   "execution_count": null,
   "id": "fef20a46",
   "metadata": {},
   "outputs": [],
   "source": [
    "collection = cat.get_collection('aster-l1t')\n",
    "collection"
   ]
  },
  {
   "cell_type": "markdown",
   "id": "b1fdffc6",
   "metadata": {},
   "source": [
    "# Items\n",
    "\n",
    "The main functions for getting items return iterators, where pystac-client will handle retrieval of additional pages when needed. Note that one request is made for the first ten items, then a second request for the next ten."
   ]
  },
  {
   "cell_type": "code",
   "execution_count": null,
   "id": "0f988158",
   "metadata": {},
   "outputs": [],
   "source": [
    "items = collection.get_items()\n",
    "\n",
    "def get_ten_items(items):\n",
    "    for i, item in enumerate(items):\n",
    "        print(f\"{i}: {item}\")\n",
    "        if i == 9:\n",
    "            return\n",
    "        \n",
    "get_ten_items(items)\n",
    "get_ten_items(items)"
   ]
  },
  {
   "cell_type": "markdown",
   "id": "195da9e9",
   "metadata": {},
   "source": [
    "# Searching APIs\n",
    "\n",
    "More useful than iterating through items in a Catalog or Collection, is the ability to search for Items based on spatial or temporal properties."
   ]
  },
  {
   "cell_type": "code",
   "execution_count": null,
   "id": "dcb2140a",
   "metadata": {},
   "outputs": [],
   "source": [
    "search = cat.search(\n",
    "    collections = \"aster-l1t\",\n",
    "    datetime = \"2000-01-01/2010-12-31\",\n",
    "    max_items = 5\n",
    ")\n",
    "search"
   ]
  },
  {
   "cell_type": "code",
   "execution_count": null,
   "id": "ecf7904b",
   "metadata": {},
   "outputs": [],
   "source": [
    "items = search.get_all_items()\n",
    "len(items)"
   ]
  },
  {
   "cell_type": "code",
   "execution_count": null,
   "id": "651157f0",
   "metadata": {},
   "outputs": [],
   "source": []
  }
 ],
 "metadata": {
  "kernelspec": {
   "display_name": "Python 3 (ipykernel)",
   "language": "python",
   "name": "python3"
  },
  "language_info": {
   "codemirror_mode": {
    "name": "ipython",
    "version": 3
   },
   "file_extension": ".py",
   "mimetype": "text/x-python",
   "name": "python",
   "nbconvert_exporter": "python",
   "pygments_lexer": "ipython3",
   "version": "3.9.4"
  }
 },
 "nbformat": 4,
 "nbformat_minor": 5
}
